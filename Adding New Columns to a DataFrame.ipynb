{
 "cells": [
  {
   "cell_type": "code",
   "execution_count": 14,
   "id": "c8030e8d",
   "metadata": {},
   "outputs": [],
   "source": [
    "import pandas as pd\n",
    "import numpy as np"
   ]
  },
  {
   "cell_type": "markdown",
   "id": "99b00606",
   "metadata": {},
   "source": [
    "## <u>Problem Statement</u>\n",
    "\n",
    " Given a dataframe with 2 columns (**col1** and **col2**), create logic that adds a new column (**col3**) to the dataframe which contains values from **col1** and not **col2**."
   ]
  },
  {
   "cell_type": "markdown",
   "id": "1946fe0b",
   "metadata": {},
   "source": [
    "### First, lets create lists x and y and add them to a dataframe."
   ]
  },
  {
   "cell_type": "code",
   "execution_count": 106,
   "id": "c129728f",
   "metadata": {},
   "outputs": [],
   "source": [
    "x = [2,4,6,8,10]\n",
    "y = [8,10,12,14,16]\n",
    "\n",
    "df = pd.DataFrame()\n",
    "\n",
    "df['col1'] = x\n",
    "df['col2'] = y"
   ]
  },
  {
   "cell_type": "markdown",
   "id": "32287656",
   "metadata": {},
   "source": [
    "## Now, let's look at the logic to achieve the task.\n",
    "\n",
    "1. Create an empty list called new_col.\n",
    "2. concatenate x and y into one list called xy_concat.\n",
    "\n",
    "3. Start a for loop that iterates the lenght of xy_concat and appends the current value to new_col if the value is present in only x.\n",
    "\n",
    "\n",
    "4. Find the absolute difference between the length of new_col and the number of rows in df\n",
    "\n",
    "5. If the abs difference is less than number of rows in df, iterate the range of the abs difference and append 'None' at each iteration\n",
    "\n",
    "6. If the length of new_col > the number of rows in df new_col = new_col[:-absdifference]\n",
    "7. Add new_col to df now that the length of new_col is the same as the number of rows of df"
   ]
  },
  {
   "cell_type": "markdown",
   "id": "33c1e804",
   "metadata": {},
   "source": [
    "### Steps 1 & 2"
   ]
  },
  {
   "cell_type": "code",
   "execution_count": 107,
   "id": "f2acdab5",
   "metadata": {},
   "outputs": [],
   "source": [
    "new_col = [] # create empty list to store the new column's values\n",
    "xy_concat = x + y # concatenate lists x and y (will be used in for loop later)"
   ]
  },
  {
   "cell_type": "markdown",
   "id": "d8733ed3",
   "metadata": {},
   "source": [
    "### Step 3"
   ]
  },
  {
   "cell_type": "code",
   "execution_count": 108,
   "id": "6a38e0b0",
   "metadata": {},
   "outputs": [],
   "source": [
    "for i in xy_concat:# iterate concatenated list\n",
    "    if ((i in x) & (i not in y)): # establish criteria used to append values to new column list\n",
    "        new_col.append(i)"
   ]
  },
  {
   "cell_type": "markdown",
   "id": "2d08215f",
   "metadata": {},
   "source": [
    "### Three of col1's values do not intersect with the values of col2. However, to add the new column to the dataframe, its length must match the number of rows of the dataframe. "
   ]
  },
  {
   "cell_type": "code",
   "execution_count": 109,
   "id": "18e18c2e",
   "metadata": {},
   "outputs": [
    {
     "name": "stdout",
     "output_type": "stream",
     "text": [
      "Length of new column is 3. Number of rows in dataframe is 5.\n"
     ]
    }
   ],
   "source": [
    "print(f'Length of new column is {len(new_col)}.' + ' ' + f'Number of rows in dataframe is {df.shape[0]}.')"
   ]
  },
  {
   "cell_type": "code",
   "execution_count": 110,
   "id": "b99db8b3",
   "metadata": {
    "scrolled": true
   },
   "outputs": [
    {
     "ename": "ValueError",
     "evalue": "Length of values (3) does not match length of index (5)",
     "output_type": "error",
     "traceback": [
      "\u001b[1;31m---------------------------------------------------------------------------\u001b[0m",
      "\u001b[1;31mValueError\u001b[0m                                Traceback (most recent call last)",
      "\u001b[1;32m~\\AppData\\Local\\Temp/ipykernel_29024/276244363.py\u001b[0m in \u001b[0;36m<module>\u001b[1;34m\u001b[0m\n\u001b[0;32m      1\u001b[0m \u001b[1;31m#note the error when executing the following\u001b[0m\u001b[1;33m\u001b[0m\u001b[1;33m\u001b[0m\u001b[0m\n\u001b[1;32m----> 2\u001b[1;33m \u001b[0mdf\u001b[0m\u001b[1;33m[\u001b[0m\u001b[1;34m'col3'\u001b[0m\u001b[1;33m]\u001b[0m \u001b[1;33m=\u001b[0m \u001b[0mnew_col\u001b[0m\u001b[1;33m\u001b[0m\u001b[1;33m\u001b[0m\u001b[0m\n\u001b[0m",
      "\u001b[1;32m~\\anaconda3\\lib\\site-packages\\pandas\\core\\frame.py\u001b[0m in \u001b[0;36m__setitem__\u001b[1;34m(self, key, value)\u001b[0m\n\u001b[0;32m   3610\u001b[0m         \u001b[1;32melse\u001b[0m\u001b[1;33m:\u001b[0m\u001b[1;33m\u001b[0m\u001b[1;33m\u001b[0m\u001b[0m\n\u001b[0;32m   3611\u001b[0m             \u001b[1;31m# set column\u001b[0m\u001b[1;33m\u001b[0m\u001b[1;33m\u001b[0m\u001b[0m\n\u001b[1;32m-> 3612\u001b[1;33m             \u001b[0mself\u001b[0m\u001b[1;33m.\u001b[0m\u001b[0m_set_item\u001b[0m\u001b[1;33m(\u001b[0m\u001b[0mkey\u001b[0m\u001b[1;33m,\u001b[0m \u001b[0mvalue\u001b[0m\u001b[1;33m)\u001b[0m\u001b[1;33m\u001b[0m\u001b[1;33m\u001b[0m\u001b[0m\n\u001b[0m\u001b[0;32m   3613\u001b[0m \u001b[1;33m\u001b[0m\u001b[0m\n\u001b[0;32m   3614\u001b[0m     \u001b[1;32mdef\u001b[0m \u001b[0m_setitem_slice\u001b[0m\u001b[1;33m(\u001b[0m\u001b[0mself\u001b[0m\u001b[1;33m,\u001b[0m \u001b[0mkey\u001b[0m\u001b[1;33m:\u001b[0m \u001b[0mslice\u001b[0m\u001b[1;33m,\u001b[0m \u001b[0mvalue\u001b[0m\u001b[1;33m)\u001b[0m\u001b[1;33m:\u001b[0m\u001b[1;33m\u001b[0m\u001b[1;33m\u001b[0m\u001b[0m\n",
      "\u001b[1;32m~\\anaconda3\\lib\\site-packages\\pandas\\core\\frame.py\u001b[0m in \u001b[0;36m_set_item\u001b[1;34m(self, key, value)\u001b[0m\n\u001b[0;32m   3782\u001b[0m         \u001b[0mensure\u001b[0m \u001b[0mhomogeneity\u001b[0m\u001b[1;33m.\u001b[0m\u001b[1;33m\u001b[0m\u001b[1;33m\u001b[0m\u001b[0m\n\u001b[0;32m   3783\u001b[0m         \"\"\"\n\u001b[1;32m-> 3784\u001b[1;33m         \u001b[0mvalue\u001b[0m \u001b[1;33m=\u001b[0m \u001b[0mself\u001b[0m\u001b[1;33m.\u001b[0m\u001b[0m_sanitize_column\u001b[0m\u001b[1;33m(\u001b[0m\u001b[0mvalue\u001b[0m\u001b[1;33m)\u001b[0m\u001b[1;33m\u001b[0m\u001b[1;33m\u001b[0m\u001b[0m\n\u001b[0m\u001b[0;32m   3785\u001b[0m \u001b[1;33m\u001b[0m\u001b[0m\n\u001b[0;32m   3786\u001b[0m         if (\n",
      "\u001b[1;32m~\\anaconda3\\lib\\site-packages\\pandas\\core\\frame.py\u001b[0m in \u001b[0;36m_sanitize_column\u001b[1;34m(self, value)\u001b[0m\n\u001b[0;32m   4507\u001b[0m \u001b[1;33m\u001b[0m\u001b[0m\n\u001b[0;32m   4508\u001b[0m         \u001b[1;32mif\u001b[0m \u001b[0mis_list_like\u001b[0m\u001b[1;33m(\u001b[0m\u001b[0mvalue\u001b[0m\u001b[1;33m)\u001b[0m\u001b[1;33m:\u001b[0m\u001b[1;33m\u001b[0m\u001b[1;33m\u001b[0m\u001b[0m\n\u001b[1;32m-> 4509\u001b[1;33m             \u001b[0mcom\u001b[0m\u001b[1;33m.\u001b[0m\u001b[0mrequire_length_match\u001b[0m\u001b[1;33m(\u001b[0m\u001b[0mvalue\u001b[0m\u001b[1;33m,\u001b[0m \u001b[0mself\u001b[0m\u001b[1;33m.\u001b[0m\u001b[0mindex\u001b[0m\u001b[1;33m)\u001b[0m\u001b[1;33m\u001b[0m\u001b[1;33m\u001b[0m\u001b[0m\n\u001b[0m\u001b[0;32m   4510\u001b[0m         \u001b[1;32mreturn\u001b[0m \u001b[0msanitize_array\u001b[0m\u001b[1;33m(\u001b[0m\u001b[0mvalue\u001b[0m\u001b[1;33m,\u001b[0m \u001b[0mself\u001b[0m\u001b[1;33m.\u001b[0m\u001b[0mindex\u001b[0m\u001b[1;33m,\u001b[0m \u001b[0mcopy\u001b[0m\u001b[1;33m=\u001b[0m\u001b[1;32mTrue\u001b[0m\u001b[1;33m,\u001b[0m \u001b[0mallow_2d\u001b[0m\u001b[1;33m=\u001b[0m\u001b[1;32mTrue\u001b[0m\u001b[1;33m)\u001b[0m\u001b[1;33m\u001b[0m\u001b[1;33m\u001b[0m\u001b[0m\n\u001b[0;32m   4511\u001b[0m \u001b[1;33m\u001b[0m\u001b[0m\n",
      "\u001b[1;32m~\\anaconda3\\lib\\site-packages\\pandas\\core\\common.py\u001b[0m in \u001b[0;36mrequire_length_match\u001b[1;34m(data, index)\u001b[0m\n\u001b[0;32m    529\u001b[0m     \"\"\"\n\u001b[0;32m    530\u001b[0m     \u001b[1;32mif\u001b[0m \u001b[0mlen\u001b[0m\u001b[1;33m(\u001b[0m\u001b[0mdata\u001b[0m\u001b[1;33m)\u001b[0m \u001b[1;33m!=\u001b[0m \u001b[0mlen\u001b[0m\u001b[1;33m(\u001b[0m\u001b[0mindex\u001b[0m\u001b[1;33m)\u001b[0m\u001b[1;33m:\u001b[0m\u001b[1;33m\u001b[0m\u001b[1;33m\u001b[0m\u001b[0m\n\u001b[1;32m--> 531\u001b[1;33m         raise ValueError(\n\u001b[0m\u001b[0;32m    532\u001b[0m             \u001b[1;34m\"Length of values \"\u001b[0m\u001b[1;33m\u001b[0m\u001b[1;33m\u001b[0m\u001b[0m\n\u001b[0;32m    533\u001b[0m             \u001b[1;34mf\"({len(data)}) \"\u001b[0m\u001b[1;33m\u001b[0m\u001b[1;33m\u001b[0m\u001b[0m\n",
      "\u001b[1;31mValueError\u001b[0m: Length of values (3) does not match length of index (5)"
     ]
    }
   ],
   "source": [
    "#note the error when executing the following\n",
    "df['col3'] = new_col"
   ]
  },
  {
   "cell_type": "markdown",
   "id": "d2aa97c7",
   "metadata": {},
   "source": [
    "### Next, we need to create logic that addresses for scenarios when the new column's length does not match the number of rows in the dataframe."
   ]
  },
  {
   "cell_type": "markdown",
   "id": "12cbc26e",
   "metadata": {},
   "source": [
    "### First, let's calculate the absolute difference between the number of rows in the dataframe and the current length of the new column."
   ]
  },
  {
   "cell_type": "markdown",
   "id": "45daa0f1",
   "metadata": {},
   "source": [
    "### Step 4"
   ]
  },
  {
   "cell_type": "code",
   "execution_count": 111,
   "id": "00f98ab1",
   "metadata": {},
   "outputs": [],
   "source": [
    "rowlen = df.shape[0] #get number of rows in df\n",
    "        \n",
    "diff = abs(len(new_col) - rowlen) #calculate the absolute difference"
   ]
  },
  {
   "cell_type": "markdown",
   "id": "d0ea6a42",
   "metadata": {},
   "source": [
    "### Let's now create the logic which essentially:\n",
    "1. (If current length of new column list is less than the number of rows in the dataframe) Adds a 'None' value to the new column list until it's length equals the number of rows in the dataframe OR\n",
    "2. (If current length of new column exceeds number of rows) Removes excess values from new column list so that it's length matches the number of rows in the dataframe."
   ]
  },
  {
   "cell_type": "markdown",
   "id": "5263f0bd",
   "metadata": {},
   "source": [
    "### Step 5"
   ]
  },
  {
   "cell_type": "code",
   "execution_count": 112,
   "id": "6e9dcee0",
   "metadata": {},
   "outputs": [],
   "source": [
    "if diff < rowlen: #scenario 1\n",
    "    for i in range(diff):\n",
    "        new_col.append(None)\n",
    "        \n",
    "elif len(new_col) > rownlen: # scenario 2\n",
    "    new_col = new_col[:-diff]\n",
    "    \n",
    "else:\n",
    "    print(\"New column length and number of rows in dataframe are equivalent\")\n",
    "    \n",
    "    \n",
    "df['col3'] = new_col"
   ]
  },
  {
   "cell_type": "code",
   "execution_count": 113,
   "id": "fcd6984b",
   "metadata": {},
   "outputs": [
    {
     "data": {
      "text/html": [
       "<div>\n",
       "<style scoped>\n",
       "    .dataframe tbody tr th:only-of-type {\n",
       "        vertical-align: middle;\n",
       "    }\n",
       "\n",
       "    .dataframe tbody tr th {\n",
       "        vertical-align: top;\n",
       "    }\n",
       "\n",
       "    .dataframe thead th {\n",
       "        text-align: right;\n",
       "    }\n",
       "</style>\n",
       "<table border=\"1\" class=\"dataframe\">\n",
       "  <thead>\n",
       "    <tr style=\"text-align: right;\">\n",
       "      <th></th>\n",
       "      <th>col1</th>\n",
       "      <th>col2</th>\n",
       "      <th>col3</th>\n",
       "    </tr>\n",
       "  </thead>\n",
       "  <tbody>\n",
       "    <tr>\n",
       "      <th>0</th>\n",
       "      <td>2</td>\n",
       "      <td>8</td>\n",
       "      <td>2.0</td>\n",
       "    </tr>\n",
       "    <tr>\n",
       "      <th>1</th>\n",
       "      <td>4</td>\n",
       "      <td>10</td>\n",
       "      <td>4.0</td>\n",
       "    </tr>\n",
       "    <tr>\n",
       "      <th>2</th>\n",
       "      <td>6</td>\n",
       "      <td>12</td>\n",
       "      <td>6.0</td>\n",
       "    </tr>\n",
       "    <tr>\n",
       "      <th>3</th>\n",
       "      <td>8</td>\n",
       "      <td>14</td>\n",
       "      <td>NaN</td>\n",
       "    </tr>\n",
       "    <tr>\n",
       "      <th>4</th>\n",
       "      <td>10</td>\n",
       "      <td>16</td>\n",
       "      <td>NaN</td>\n",
       "    </tr>\n",
       "  </tbody>\n",
       "</table>\n",
       "</div>"
      ],
      "text/plain": [
       "   col1  col2  col3\n",
       "0     2     8   2.0\n",
       "1     4    10   4.0\n",
       "2     6    12   6.0\n",
       "3     8    14   NaN\n",
       "4    10    16   NaN"
      ]
     },
     "execution_count": 113,
     "metadata": {},
     "output_type": "execute_result"
    }
   ],
   "source": [
    "df"
   ]
  },
  {
   "cell_type": "markdown",
   "id": "d418743c",
   "metadata": {},
   "source": [
    "### Now, let's assume various people want to contribute their own column to the dataframe. As owner of the dataframe, I have decided to only accept column values that appear in col1 of the dataframe. \n",
    "\n",
    "### How can we create a function that checks new columns and does this for us?"
   ]
  },
  {
   "cell_type": "code",
   "execution_count": 144,
   "id": "a7576c29",
   "metadata": {},
   "outputs": [],
   "source": [
    "def add_column (arg1, arg2):\n",
    "    '''\n",
    "    arg1: list of values that will be added as rows for the new column\n",
    "    arg2: my dataframe that the new column will be added to\n",
    "    '''\n",
    "    \n",
    "    try:\n",
    "        if arg2.shape[1] == 0:\n",
    "            print(\"Empty DataFrame (argument 2)\")\n",
    "        \n",
    "        elif type(arg1) != list:\n",
    "            print(\"Please input a list for argument 1\")\n",
    "            \n",
    "        else:\n",
    "    \n",
    "            new_col = []\n",
    "            rowlen = arg2.shape[0]\n",
    "\n",
    "            \n",
    "            for i in arg1:\n",
    "                if i in list(arg2.iloc[:,0]):\n",
    "                    new_col.append(i)\n",
    "                    \n",
    "            diff = abs(len(new_col) - rowlen)\n",
    "            \n",
    "            if diff < rowlen:\n",
    "                for i in range(diff):\n",
    "                    new_col.append(None)\n",
    "\n",
    "            elif len(new_col) > rownlen:\n",
    "                new_col = new_col[:-diff]\n",
    "                \n",
    "            arg2['New Column'] = new_col\n",
    "            \n",
    "            return(arg2)\n",
    "            \n",
    "    except Exception as e:\n",
    "        print(e)      "
   ]
  },
  {
   "cell_type": "markdown",
   "id": "1a71f5be",
   "metadata": {},
   "source": [
    "### Let's create some example data for the persons interested in adding their columns to my dataframe and place it in a dataframe."
   ]
  },
  {
   "cell_type": "code",
   "execution_count": 145,
   "id": "b57a3b71",
   "metadata": {},
   "outputs": [],
   "source": [
    "person = ['a','b','c','d','e']\n",
    "values = [[1,2,3,4,5],[12,6,8,10,4],[20,12,15,3,2],[6,8,10,12,4]]\n",
    "input_df = pd.DataFrame(np.array(values),columns = person)"
   ]
  },
  {
   "cell_type": "code",
   "execution_count": 146,
   "id": "5502aa7e",
   "metadata": {},
   "outputs": [
    {
     "data": {
      "text/html": [
       "<div>\n",
       "<style scoped>\n",
       "    .dataframe tbody tr th:only-of-type {\n",
       "        vertical-align: middle;\n",
       "    }\n",
       "\n",
       "    .dataframe tbody tr th {\n",
       "        vertical-align: top;\n",
       "    }\n",
       "\n",
       "    .dataframe thead th {\n",
       "        text-align: right;\n",
       "    }\n",
       "</style>\n",
       "<table border=\"1\" class=\"dataframe\">\n",
       "  <thead>\n",
       "    <tr style=\"text-align: right;\">\n",
       "      <th></th>\n",
       "      <th>a</th>\n",
       "      <th>b</th>\n",
       "      <th>c</th>\n",
       "      <th>d</th>\n",
       "      <th>e</th>\n",
       "    </tr>\n",
       "  </thead>\n",
       "  <tbody>\n",
       "    <tr>\n",
       "      <th>0</th>\n",
       "      <td>1</td>\n",
       "      <td>2</td>\n",
       "      <td>3</td>\n",
       "      <td>4</td>\n",
       "      <td>5</td>\n",
       "    </tr>\n",
       "    <tr>\n",
       "      <th>1</th>\n",
       "      <td>12</td>\n",
       "      <td>6</td>\n",
       "      <td>8</td>\n",
       "      <td>10</td>\n",
       "      <td>4</td>\n",
       "    </tr>\n",
       "    <tr>\n",
       "      <th>2</th>\n",
       "      <td>20</td>\n",
       "      <td>12</td>\n",
       "      <td>15</td>\n",
       "      <td>3</td>\n",
       "      <td>2</td>\n",
       "    </tr>\n",
       "    <tr>\n",
       "      <th>3</th>\n",
       "      <td>6</td>\n",
       "      <td>8</td>\n",
       "      <td>10</td>\n",
       "      <td>12</td>\n",
       "      <td>4</td>\n",
       "    </tr>\n",
       "  </tbody>\n",
       "</table>\n",
       "</div>"
      ],
      "text/plain": [
       "    a   b   c   d  e\n",
       "0   1   2   3   4  5\n",
       "1  12   6   8  10  4\n",
       "2  20  12  15   3  2\n",
       "3   6   8  10  12  4"
      ]
     },
     "execution_count": 146,
     "metadata": {},
     "output_type": "execute_result"
    }
   ],
   "source": [
    "#view client dataframe\n",
    "input_df"
   ]
  },
  {
   "cell_type": "markdown",
   "id": "d38bf707",
   "metadata": {},
   "source": [
    "### Let's also create our dataframe."
   ]
  },
  {
   "cell_type": "code",
   "execution_count": 147,
   "id": "31ac8f6b",
   "metadata": {},
   "outputs": [],
   "source": [
    "df = pd.DataFrame()\n",
    "a = [1,2,3,4,6,15]\n",
    "b = [3,4,5,4,9,12]\n",
    "\n",
    "df['col1'] = a\n",
    "df['col2'] = b"
   ]
  },
  {
   "cell_type": "code",
   "execution_count": 148,
   "id": "be67fdef",
   "metadata": {},
   "outputs": [
    {
     "data": {
      "text/html": [
       "<div>\n",
       "<style scoped>\n",
       "    .dataframe tbody tr th:only-of-type {\n",
       "        vertical-align: middle;\n",
       "    }\n",
       "\n",
       "    .dataframe tbody tr th {\n",
       "        vertical-align: top;\n",
       "    }\n",
       "\n",
       "    .dataframe thead th {\n",
       "        text-align: right;\n",
       "    }\n",
       "</style>\n",
       "<table border=\"1\" class=\"dataframe\">\n",
       "  <thead>\n",
       "    <tr style=\"text-align: right;\">\n",
       "      <th></th>\n",
       "      <th>col1</th>\n",
       "      <th>col2</th>\n",
       "    </tr>\n",
       "  </thead>\n",
       "  <tbody>\n",
       "    <tr>\n",
       "      <th>0</th>\n",
       "      <td>1</td>\n",
       "      <td>3</td>\n",
       "    </tr>\n",
       "    <tr>\n",
       "      <th>1</th>\n",
       "      <td>2</td>\n",
       "      <td>4</td>\n",
       "    </tr>\n",
       "    <tr>\n",
       "      <th>2</th>\n",
       "      <td>3</td>\n",
       "      <td>5</td>\n",
       "    </tr>\n",
       "    <tr>\n",
       "      <th>3</th>\n",
       "      <td>4</td>\n",
       "      <td>4</td>\n",
       "    </tr>\n",
       "    <tr>\n",
       "      <th>4</th>\n",
       "      <td>6</td>\n",
       "      <td>9</td>\n",
       "    </tr>\n",
       "    <tr>\n",
       "      <th>5</th>\n",
       "      <td>15</td>\n",
       "      <td>12</td>\n",
       "    </tr>\n",
       "  </tbody>\n",
       "</table>\n",
       "</div>"
      ],
      "text/plain": [
       "   col1  col2\n",
       "0     1     3\n",
       "1     2     4\n",
       "2     3     5\n",
       "3     4     4\n",
       "4     6     9\n",
       "5    15    12"
      ]
     },
     "execution_count": 148,
     "metadata": {},
     "output_type": "execute_result"
    }
   ],
   "source": [
    "#view our dataframe\n",
    "df"
   ]
  },
  {
   "cell_type": "code",
   "execution_count": 152,
   "id": "9a5cd518",
   "metadata": {},
   "outputs": [
    {
     "name": "stdout",
     "output_type": "stream",
     "text": [
      "   col1  col2  New Column\n",
      "0     1     3         1.0\n",
      "1     2     4         6.0\n",
      "2     3     5         NaN\n",
      "3     4     4         NaN\n",
      "4     6     9         NaN\n",
      "5    15    12         NaN\n",
      "   col1  col2  New Column\n",
      "0     1     3         2.0\n",
      "1     2     4         6.0\n",
      "2     3     5         NaN\n",
      "3     4     4         NaN\n",
      "4     6     9         NaN\n",
      "5    15    12         NaN\n",
      "   col1  col2  New Column\n",
      "0     1     3         3.0\n",
      "1     2     4        15.0\n",
      "2     3     5         NaN\n",
      "3     4     4         NaN\n",
      "4     6     9         NaN\n",
      "5    15    12         NaN\n",
      "   col1  col2  New Column\n",
      "0     1     3         4.0\n",
      "1     2     4         3.0\n",
      "2     3     5         NaN\n",
      "3     4     4         NaN\n",
      "4     6     9         NaN\n",
      "5    15    12         NaN\n",
      "   col1  col2  New Column\n",
      "0     1     3         4.0\n",
      "1     2     4         2.0\n",
      "2     3     5         4.0\n",
      "3     4     4         NaN\n",
      "4     6     9         NaN\n",
      "5    15    12         NaN\n"
     ]
    }
   ],
   "source": [
    "#Let's use a for loop to feed the client's data to our function and display what the new column would look like for each person\n",
    "for col in input_df.columns:\n",
    "    person = col\n",
    "    result = add_column(list(input_df[col]),df)\n",
    "    print(result)"
   ]
  }
 ],
 "metadata": {
  "kernelspec": {
   "display_name": "Python 3 (ipykernel)",
   "language": "python",
   "name": "python3"
  },
  "language_info": {
   "codemirror_mode": {
    "name": "ipython",
    "version": 3
   },
   "file_extension": ".py",
   "mimetype": "text/x-python",
   "name": "python",
   "nbconvert_exporter": "python",
   "pygments_lexer": "ipython3",
   "version": "3.9.7"
  }
 },
 "nbformat": 4,
 "nbformat_minor": 5
}
